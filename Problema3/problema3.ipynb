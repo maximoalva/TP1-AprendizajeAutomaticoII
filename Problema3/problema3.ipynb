{
  "nbformat": 4,
  "nbformat_minor": 0,
  "metadata": {
    "colab": {
      "provenance": [],
      "authorship_tag": "ABX9TyOQ1DfvLzCixsNvflLHcr6r",
      "include_colab_link": true
    },
    "kernelspec": {
      "name": "python3",
      "display_name": "Python 3"
    },
    "language_info": {
      "name": "python"
    }
  },
  "cells": [
    {
      "cell_type": "markdown",
      "metadata": {
        "id": "view-in-github",
        "colab_type": "text"
      },
      "source": [
        "<a href=\"https://colab.research.google.com/github/maximoalva/TP1-AprendizajeAutomaticoII/blob/main/Problema3/problema3.ipynb\" target=\"_parent\"><img src=\"https://colab.research.google.com/assets/colab-badge.svg\" alt=\"Open In Colab\"/></a>"
      ]
    },
    {
      "cell_type": "markdown",
      "source": [
        "# Trabajo práctico N°1 - Redes Densas y Convolucionales\n",
        "\n",
        "---\n",
        "Aprendizaje Automático I\n",
        "\n",
        "Tecnicatura Universitaria en Inteligencia Artificial\n",
        "\n",
        "Facultad de Ciencias Exactas, Ingeniería y Agrimensura\n",
        "\n",
        "Universidad Nacional de Rosario\n",
        "\n",
        "2025\n",
        "\n",
        "Estudiantes:\n",
        "\n",
        "*   Máximo Alva\n",
        "*   María Sol Aranda"
      ],
      "metadata": {
        "id": "jLDez22YsPDN"
      }
    },
    {
      "cell_type": "markdown",
      "source": [
        "# Problema 3\n",
        "\n",
        "---\n",
        "En este problema, se proporciona un conjunto de datos que contiene imágenes de escenas naturales de todo el mundo. El objetivo es construir un modelo de clasificación utilizando redes neuronales convolucionales (CNN) para clasificar estas imágenes en una de las seis categorías predefinidas."
      ],
      "metadata": {
        "id": "pw9EJw5IsSa4"
      }
    },
    {
      "cell_type": "markdown",
      "source": [
        "## Preparación del entorno"
      ],
      "metadata": {
        "id": "Rge2-Vcft-B9"
      }
    },
    {
      "cell_type": "markdown",
      "source": [
        "Importar librerías."
      ],
      "metadata": {
        "id": "7wbfqtSGt_8U"
      }
    },
    {
      "cell_type": "code",
      "execution_count": null,
      "metadata": {
        "id": "XURfUxudmoIY"
      },
      "outputs": [],
      "source": [
        "import numpy as np\n",
        "import matplotlib.pyplot as plt\n",
        "import seaborn as sns\n",
        "import pandas as pd\n",
        "import tensorflow as tf\n",
        "from sklearn.model_selection import train_test_split"
      ]
    },
    {
      "cell_type": "markdown",
      "source": [
        "Descargar y descomprimir el dataset."
      ],
      "metadata": {
        "id": "H44Cco07-Yv3"
      }
    },
    {
      "cell_type": "code",
      "source": [
        "!gdown 1Pqs5Y6dZr4R66Dby5hIUIjPZtBI28rmJ\n",
        "!unzip TP1-3-natural-scenes.zip\n",
        "!rm TP1-3-natural-scenes.zip\n",
        "\n",
        "!mv TP1-3-natural-scenes/train/train/* TP1-3-natural-scenes/train/\n",
        "!rm -r TP1-3-natural-scenes/train/train\n",
        "\n",
        "!mv TP1-3-natural-scenes/test/test/* TP1-3-natural-scenes/test/\n",
        "!rm -r TP1-3-natural-scenes/test/test\n",
        "\n",
        "!mv TP1-3-natural-scenes/val/val/* TP1-3-natural-scenes/val/\n",
        "!rm -r TP1-3-natural-scenes/val/val"
      ],
      "metadata": {
        "id": "ZH3VLvLi-ZaE",
        "outputId": "2bc95e38-dda1-4cf6-b97d-9bbcca781213",
        "colab": {
          "base_uri": "https://localhost:8080/"
        }
      },
      "execution_count": 2,
      "outputs": [
        {
          "output_type": "stream",
          "name": "stdout",
          "text": [
            "Downloading...\n",
            "From (original): https://drive.google.com/uc?id=1Pqs5Y6dZr4R66Dby5hIUIjPZtBI28rmJ\n",
            "From (redirected): https://drive.google.com/uc?id=1Pqs5Y6dZr4R66Dby5hIUIjPZtBI28rmJ&confirm=t&uuid=f577cded-8f6a-4b93-956a-bd2a7a5ea3d7\n",
            "To: /content/TP1-3-natural-scenes.zip\n",
            "100% 363M/363M [00:04<00:00, 88.8MB/s]\n",
            "Archive:  TP1-3-natural-scenes.zip\n",
            "replace seg_pred/seg_pred/10004.jpg? [y]es, [n]o, [A]ll, [N]one, [r]ename: y\n",
            "  inflating: seg_pred/seg_pred/10004.jpg  \n",
            "replace seg_pred/seg_pred/10005.jpg? [y]es, [n]o, [A]ll, [N]one, [r]ename: y\n",
            "  inflating: seg_pred/seg_pred/10005.jpg  \n",
            "replace seg_pred/seg_pred/10012.jpg? [y]es, [n]o, [A]ll, [N]one, [r]ename: y\n",
            "  inflating: seg_pred/seg_pred/10012.jpg  \n",
            "replace seg_pred/seg_pred/10013.jpg? [y]es, [n]o, [A]ll, [N]one, [r]ename: y\n",
            "  inflating: seg_pred/seg_pred/10013.jpg  \n",
            "replace seg_pred/seg_pred/10017.jpg? [y]es, [n]o, [A]ll, [N]one, [r]ename: y\n",
            "  inflating: seg_pred/seg_pred/10017.jpg  \n",
            "replace seg_pred/seg_pred/10021.jpg? [y]es, [n]o, [A]ll, [N]one, [r]ename: y\n",
            "  inflating: seg_pred/seg_pred/10021.jpg  \n",
            "replace seg_pred/seg_pred/1003.jpg? [y]es, [n]o, [A]ll, [N]one, [r]ename: y\n",
            "  inflating: seg_pred/seg_pred/1003.jpg  \n",
            "replace seg_pred/seg_pred/10034.jpg? [y]es, [n]o, [A]ll, [N]one, [r]ename: y\n",
            "  inflating: seg_pred/seg_pred/10034.jpg  \n",
            "replace seg_pred/seg_pred/10038.jpg? [y]es, [n]o, [A]ll, [N]one, [r]ename: y\n",
            "  inflating: seg_pred/seg_pred/10038.jpg  \n",
            "replace seg_pred/seg_pred/10040.jpg? [y]es, [n]o, [A]ll, [N]one, [r]ename: y\n",
            "  inflating: seg_pred/seg_pred/10040.jpg  \n",
            "replace seg_pred/seg_pred/10043.jpg? [y]es, [n]o, [A]ll, [N]one, [r]ename: y\n",
            "  inflating: seg_pred/seg_pred/10043.jpg  \n",
            "replace seg_pred/seg_pred/10045.jpg? [y]es, [n]o, [A]ll, [N]one, [r]ename: y\n",
            "  inflating: seg_pred/seg_pred/10045.jpg  \n",
            "replace seg_pred/seg_pred/10047.jpg? [y]es, [n]o, [A]ll, [N]one, [r]ename: y\n",
            "  inflating: seg_pred/seg_pred/10047.jpg  \n",
            "replace seg_pred/seg_pred/10048.jpg? [y]es, [n]o, [A]ll, [N]one, [r]ename: y\n",
            "  inflating: seg_pred/seg_pred/10048.jpg  \n",
            "replace seg_pred/seg_pred/10052.jpg? [y]es, [n]o, [A]ll, [N]one, [r]ename: mv: cannot stat 'TP1-3-natural-scenes/train/train/*': No such file or directory\n",
            "rm: cannot remove 'TP1-3-natural-scenes/train/train': No such file or directory\n",
            "mv: cannot stat 'TP1-3-natural-scenes/test/test/*': No such file or directory\n",
            "rm: cannot remove 'TP1-3-natural-scenes/test/test': No such file or directory\n",
            "mv: cannot stat 'TP1-3-natural-scenes/val/val/*': No such file or directory\n",
            "rm: cannot remove 'TP1-3-natural-scenes/val/val': No such file or directory\n"
          ]
        }
      ]
    }
  ]
}