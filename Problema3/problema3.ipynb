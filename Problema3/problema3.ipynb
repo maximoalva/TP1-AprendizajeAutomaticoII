{
  "nbformat": 4,
  "nbformat_minor": 0,
  "metadata": {
    "colab": {
      "provenance": [],
      "authorship_tag": "ABX9TyM2sJF24pMOTW39kOvV7xdG",
      "include_colab_link": true
    },
    "kernelspec": {
      "name": "python3",
      "display_name": "Python 3"
    },
    "language_info": {
      "name": "python"
    }
  },
  "cells": [
    {
      "cell_type": "markdown",
      "metadata": {
        "id": "view-in-github",
        "colab_type": "text"
      },
      "source": [
        "<a href=\"https://colab.research.google.com/github/maximoalva/TP1-AprendizajeAutomaticoII/blob/main/Problema3/problema3.ipynb\" target=\"_parent\"><img src=\"https://colab.research.google.com/assets/colab-badge.svg\" alt=\"Open In Colab\"/></a>"
      ]
    },
    {
      "cell_type": "markdown",
      "source": [
        "# Trabajo práctico N°1 - Redes Densas y Convolucionales\n",
        "\n",
        "---\n",
        "Aprendizaje Automático I\n",
        "\n",
        "Tecnicatura Universitaria en Inteligencia Artificial\n",
        "\n",
        "Facultad de Ciencias Exactas, Ingeniería y Agrimensura\n",
        "\n",
        "Universidad Nacional de Rosario\n",
        "\n",
        "2025\n",
        "\n",
        "Estudiantes:\n",
        "\n",
        "*   Máximo Alva\n",
        "*   María Sol Aranda"
      ],
      "metadata": {
        "id": "jLDez22YsPDN"
      }
    },
    {
      "cell_type": "markdown",
      "source": [
        "# Problema 3\n",
        "\n",
        "---\n",
        "En este problema, se proporciona un conjunto de datos que contiene imágenes de escenas naturales de todo el mundo. El objetivo es construir un modelo de clasificación utilizando redes neuronales convolucionales (CNN) para clasificar estas imágenes en una de las seis categorías predefinidas."
      ],
      "metadata": {
        "id": "pw9EJw5IsSa4"
      }
    },
    {
      "cell_type": "markdown",
      "source": [
        "## Preparación del entorno"
      ],
      "metadata": {
        "id": "Rge2-Vcft-B9"
      }
    },
    {
      "cell_type": "markdown",
      "source": [
        "Importar librerías."
      ],
      "metadata": {
        "id": "7wbfqtSGt_8U"
      }
    },
    {
      "cell_type": "code",
      "execution_count": null,
      "metadata": {
        "id": "XURfUxudmoIY"
      },
      "outputs": [],
      "source": [
        "import numpy as np\n",
        "import matplotlib.pyplot as plt\n",
        "import seaborn as sns\n",
        "import pandas as pd\n",
        "import tensorflow as tf\n",
        "from sklearn.model_selection import train_test_split"
      ]
    }
  ]
}